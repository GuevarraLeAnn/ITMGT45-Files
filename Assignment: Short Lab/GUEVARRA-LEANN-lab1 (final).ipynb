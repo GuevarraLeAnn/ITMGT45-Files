{
 "cells": [
  {
   "cell_type": "markdown",
   "id": "4ce441e9",
   "metadata": {},
   "source": [
    "## Student Details\n",
    "\n",
    "**ID Number:** 195832\n",
    "\n",
    "**Surname:** Guevarra\n",
    "\n",
    "**Year and Course:** 3 BS ITE"
   ]
  },
  {
   "cell_type": "markdown",
   "id": "78c48dff",
   "metadata": {},
   "source": [
    "## Problem 1"
   ]
  },
  {
   "cell_type": "code",
   "execution_count": 182,
   "id": "aef3bc45",
   "metadata": {},
   "outputs": [],
   "source": [
    "def dollars_to_pesos(dollars):\n",
    "    dollars = float(input(\"Enter amount in US Dollars: \"))\n",
    "    pesos = print(dollars, \"US dollars(s)=\",1*dollars*50,\"Philippine pesos\")\n",
    "    return pesos"
   ]
  },
  {
   "cell_type": "code",
   "execution_count": 183,
   "id": "adbbe471",
   "metadata": {},
   "outputs": [
    {
     "name": "stdout",
     "output_type": "stream",
     "text": [
      "Enter amount in US Dollars: 700\n",
      "700.0 US dollars(s)= 35000.0 Philippine pesos\n"
     ]
    }
   ],
   "source": [
    "dollars_to_pesos(700)"
   ]
  },
  {
   "cell_type": "markdown",
   "id": "4c040f8c",
   "metadata": {},
   "source": [
    "### version without input"
   ]
  },
  {
   "cell_type": "code",
   "execution_count": 184,
   "id": "39cfb49d",
   "metadata": {},
   "outputs": [],
   "source": [
    "def dollars_to_pesos(dollars):\n",
    "    pesos = print(dollars, \"US dollars(s)=\",1*dollars*50,\"Philippine pesos\")\n",
    "    return pesos"
   ]
  },
  {
   "cell_type": "code",
   "execution_count": 185,
   "id": "48688f85",
   "metadata": {},
   "outputs": [
    {
     "name": "stdout",
     "output_type": "stream",
     "text": [
      "500 US dollars(s)= 25000 Philippine pesos\n"
     ]
    }
   ],
   "source": [
    "dollars_to_pesos(500)"
   ]
  },
  {
   "cell_type": "markdown",
   "id": "65e847d7",
   "metadata": {},
   "source": [
    "## Problem 2"
   ]
  },
  {
   "cell_type": "code",
   "execution_count": 186,
   "id": "63abe305",
   "metadata": {},
   "outputs": [],
   "source": [
    "def perform_operations(x,y):\n",
    "    x = (int(input()))\n",
    "    y = (int(input()))\n",
    "    print(x+y)\n",
    "    print(x-y)\n",
    "    print(x*y)\n",
    "    print(x//y)\n",
    "    print(x%y)\n"
   ]
  },
  {
   "cell_type": "code",
   "execution_count": 188,
   "id": "4b3eb293",
   "metadata": {},
   "outputs": [
    {
     "name": "stdout",
     "output_type": "stream",
     "text": [
      "70\n",
      "8\n",
      "78\n",
      "62\n",
      "560\n",
      "8\n",
      "6\n"
     ]
    }
   ],
   "source": [
    "perform_operations(70,8)"
   ]
  },
  {
   "cell_type": "markdown",
   "id": "0d03c546",
   "metadata": {},
   "source": [
    "### version without input"
   ]
  },
  {
   "cell_type": "code",
   "execution_count": 189,
   "id": "77d1c6b4",
   "metadata": {},
   "outputs": [],
   "source": [
    "def perform_operations(x,y):\n",
    "    print(x+y)\n",
    "    print(x-y)\n",
    "    print(x*y)\n",
    "    print(x//y)\n",
    "    print(x%y)"
   ]
  },
  {
   "cell_type": "code",
   "execution_count": 190,
   "id": "fc1c5581",
   "metadata": {},
   "outputs": [
    {
     "name": "stdout",
     "output_type": "stream",
     "text": [
      "98\n",
      "82\n",
      "720\n",
      "11\n",
      "2\n"
     ]
    }
   ],
   "source": [
    "perform_operations(90,8)"
   ]
  },
  {
   "cell_type": "markdown",
   "id": "93d33983",
   "metadata": {},
   "source": [
    "## Problem 3"
   ]
  },
  {
   "cell_type": "code",
   "execution_count": 2,
   "id": "84c3d6fa",
   "metadata": {},
   "outputs": [],
   "source": [
    "def bmi(kg,cm):\n",
    "    kg = (float(input()))\n",
    "    cm = (float(input()))\n",
    "    bmi= '{0:.4f}'.format(kg/((cm/100)**2))\n",
    "    return print(bmi)"
   ]
  },
  {
   "cell_type": "code",
   "execution_count": 6,
   "id": "0d1c702c",
   "metadata": {},
   "outputs": [
    {
     "name": "stdout",
     "output_type": "stream",
     "text": [
      "31.1111\n"
     ]
    }
   ],
   "source": [
    "bmi(70,150)"
   ]
  },
  {
   "cell_type": "markdown",
   "id": "8dd273d8",
   "metadata": {},
   "source": [
    "### version without input"
   ]
  },
  {
   "cell_type": "code",
   "execution_count": 3,
   "id": "7f955b1c",
   "metadata": {},
   "outputs": [],
   "source": [
    "def bmi(kg,cm):\n",
    "    bmi= '{0:.4f}'.format(kg/((cm/100)**2))\n",
    "    return print(bmi)"
   ]
  },
  {
   "cell_type": "code",
   "execution_count": 4,
   "id": "ea2c1b0d",
   "metadata": {},
   "outputs": [
    {
     "name": "stdout",
     "output_type": "stream",
     "text": [
      "19.5312\n"
     ]
    }
   ],
   "source": [
    "bmi(50,160)"
   ]
  },
  {
   "cell_type": "code",
   "execution_count": 5,
   "id": "bbcc3181",
   "metadata": {},
   "outputs": [
    {
     "name": "stdout",
     "output_type": "stream",
     "text": [
      "25.6312\n"
     ]
    }
   ],
   "source": [
    "bmi(60,153)"
   ]
  },
  {
   "cell_type": "code",
   "execution_count": null,
   "id": "5a7aa78c",
   "metadata": {},
   "outputs": [],
   "source": []
  }
 ],
 "metadata": {
  "kernelspec": {
   "display_name": "Python 3",
   "language": "python",
   "name": "python3"
  },
  "language_info": {
   "codemirror_mode": {
    "name": "ipython",
    "version": 3
   },
   "file_extension": ".py",
   "mimetype": "text/x-python",
   "name": "python",
   "nbconvert_exporter": "python",
   "pygments_lexer": "ipython3",
   "version": "3.8.8"
  }
 },
 "nbformat": 4,
 "nbformat_minor": 5
}
