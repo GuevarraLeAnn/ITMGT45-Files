{
 "cells": [
  {
   "cell_type": "markdown",
   "id": "a088224b",
   "metadata": {},
   "source": [
    "## Student Details\n",
    "\n",
    "**ID Number:** 195832\n",
    "\n",
    "**Surname:** Guevarra\n",
    "\n",
    "**Year and Course:** 3 BS ITE"
   ]
  },
  {
   "cell_type": "code",
   "execution_count": 11,
   "id": "5fcae47e",
   "metadata": {},
   "outputs": [
    {
     "name": "stdout",
     "output_type": "stream",
     "text": [
      "Enter first number: 121701\n",
      "Enter second number: 122701\n",
      "Enter third number: 121203\n",
      "The average is 121868.33333333333\n"
     ]
    }
   ],
   "source": [
    "def three_number_average():\n",
    "    print(\"The average is\",(first_number + second_number + third_number)/3)\n",
    "first_number = int(input(\"Enter first number: \"))\n",
    "second_number = int(input(\"Enter second number: \"))\n",
    "third_number = int(input(\"Enter third number: \"))\n",
    "three_number_average()"
   ]
  },
  {
   "cell_type": "markdown",
   "id": "948b3b9e",
   "metadata": {},
   "source": [
    "### For Teachers to Try Out\n"
   ]
  },
  {
   "cell_type": "code",
   "execution_count": null,
   "id": "40daa697",
   "metadata": {},
   "outputs": [],
   "source": [
    "def three_number_average():\n",
    "    print(\"The average is\",(first_number + second_number + third_number)/3)\n",
    "first_number = int(input(\"Enter first number: \"))\n",
    "second_number = int(input(\"Enter second number: \"))\n",
    "third_number = int(input(\"Enter third number: \"))\n",
    "three_number_average()"
   ]
  },
  {
   "cell_type": "code",
   "execution_count": null,
   "id": "1954c110",
   "metadata": {},
   "outputs": [],
   "source": []
  },
  {
   "cell_type": "code",
   "execution_count": null,
   "id": "25972600",
   "metadata": {},
   "outputs": [],
   "source": []
  }
 ],
 "metadata": {
  "kernelspec": {
   "display_name": "Python 3",
   "language": "python",
   "name": "python3"
  },
  "language_info": {
   "codemirror_mode": {
    "name": "ipython",
    "version": 3
   },
   "file_extension": ".py",
   "mimetype": "text/x-python",
   "name": "python",
   "nbconvert_exporter": "python",
   "pygments_lexer": "ipython3",
   "version": "3.8.8"
  }
 },
 "nbformat": 4,
 "nbformat_minor": 5
}
