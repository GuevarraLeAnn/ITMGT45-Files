{
 "cells": [
  {
   "cell_type": "markdown",
   "id": "a088224b",
   "metadata": {},
   "source": [
    "## Student Details\n",
    "\n",
    "**ID Number:** 195832\n",
    "\n",
    "**Surname:** Guevarra\n",
    "\n",
    "**Year and Course:** 3 BS ITE"
   ]
  },
  {
   "cell_type": "code",
   "execution_count": 3,
   "id": "5fcae47e",
   "metadata": {},
   "outputs": [
    {
     "name": "stdout",
     "output_type": "stream",
     "text": [
      "Enter first number:10\n",
      "Enter second number:17\n",
      "Enter third number19\n",
      "The average is 15.333333333333334\n"
     ]
    }
   ],
   "source": [
    "first_number = int(input(\"Enter first number:\"))\n",
    "second_number = int(input(\"Enter second number:\"))\n",
    "third_number = int(input(\"Enter third number\"))\n",
    "three_number_average = (first_number + second_number + third_number)/3\n",
    "print(\"The average is\", three_number_average)"
   ]
  },
  {
   "cell_type": "markdown",
   "id": "948b3b9e",
   "metadata": {},
   "source": [
    "### For Teachers to Try Out\n"
   ]
  },
  {
   "cell_type": "code",
   "execution_count": null,
   "id": "40daa697",
   "metadata": {},
   "outputs": [],
   "source": [
    "first_number = int(input(\"Enter first number:\"))\n",
    "second_number = int(input(\"Enter second number:\"))\n",
    "third_number = int(input(\"Enter third number\"))\n",
    "three_number_average = (first_number + second_number + third_number)/3\n",
    "print(\"The average is\", three_number_average)"
   ]
  },
  {
   "cell_type": "code",
   "execution_count": null,
   "id": "1954c110",
   "metadata": {},
   "outputs": [],
   "source": []
  }
 ],
 "metadata": {
  "kernelspec": {
   "display_name": "Python 3",
   "language": "python",
   "name": "python3"
  },
  "language_info": {
   "codemirror_mode": {
    "name": "ipython",
    "version": 3
   },
   "file_extension": ".py",
   "mimetype": "text/x-python",
   "name": "python",
   "nbconvert_exporter": "python",
   "pygments_lexer": "ipython3",
   "version": "3.8.8"
  }
 },
 "nbformat": 4,
 "nbformat_minor": 5
}
