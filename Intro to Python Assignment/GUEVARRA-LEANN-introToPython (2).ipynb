{
 "cells": [
  {
   "cell_type": "markdown",
   "id": "65cb1ede",
   "metadata": {},
   "source": [
    "# Student Details\n",
    "**ID Number:** 195832\n",
    "\n",
    "**Surname:** Guevarra\n",
    "\n",
    "**Year and Course:** 3 BS ITE"
   ]
  },
  {
   "cell_type": "markdown",
   "id": "882f08ac",
   "metadata": {},
   "source": [
    "### Student's Attempt:"
   ]
  },
  {
   "cell_type": "code",
   "execution_count": 18,
   "id": "b10617d1",
   "metadata": {
    "scrolled": true
   },
   "outputs": [],
   "source": [
    "def three_number_average(firstnumber,secondnumber,thirdnumber):\n",
    "    firstnumber= int(input(\"Enter first number: \"))\n",
    "    secondnumber= int(input(\"Enter second number: \"))\n",
    "    thirdnumber= int(input(\"Enter third number: \"))\n",
    "    three_number_average = print(\"The average is\",(firstnumber+secondnumber+thirdnumber)/3,'.')\n",
    "    return three_number_average"
   ]
  },
  {
   "cell_type": "code",
   "execution_count": 20,
   "id": "71fd5ba3",
   "metadata": {},
   "outputs": [
    {
     "name": "stdout",
     "output_type": "stream",
     "text": [
      "Enter first number: 21\n",
      "Enter second number: 10\n",
      "Enter third number: 11\n",
      "The average is 14.0 .\n"
     ]
    }
   ],
   "source": [
    "three_number_average(21,10,11)"
   ]
  },
  {
   "cell_type": "markdown",
   "id": "7dbff548",
   "metadata": {},
   "source": [
    "### For Teacher's Testing:"
   ]
  },
  {
   "cell_type": "code",
   "execution_count": 21,
   "id": "0772d922",
   "metadata": {
    "scrolled": false
   },
   "outputs": [],
   "source": [
    "def three_number_average(firstnumber,secondnumber,thirdnumber):\n",
    "    three_number_average = print(\"The average is\",(firstnumber+secondnumber+thirdnumber)/3,'.')\n",
    "    return three_number_average"
   ]
  },
  {
   "cell_type": "code",
   "execution_count": 22,
   "id": "1fbcd41d",
   "metadata": {},
   "outputs": [
    {
     "name": "stdout",
     "output_type": "stream",
     "text": [
      "The average is 75.66666666666667 .\n"
     ]
    }
   ],
   "source": [
    "three_number_average(68,90,69)"
   ]
  },
  {
   "cell_type": "code",
   "execution_count": null,
   "id": "fcd02955",
   "metadata": {},
   "outputs": [],
   "source": []
  }
 ],
 "metadata": {
  "kernelspec": {
   "display_name": "Python 3",
   "language": "python",
   "name": "python3"
  },
  "language_info": {
   "codemirror_mode": {
    "name": "ipython",
    "version": 3
   },
   "file_extension": ".py",
   "mimetype": "text/x-python",
   "name": "python",
   "nbconvert_exporter": "python",
   "pygments_lexer": "ipython3",
   "version": "3.8.8"
  }
 },
 "nbformat": 4,
 "nbformat_minor": 5
}
