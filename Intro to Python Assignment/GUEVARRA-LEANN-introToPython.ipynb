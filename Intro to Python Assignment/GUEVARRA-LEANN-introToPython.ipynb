{
 "cells": [
  {
   "cell_type": "markdown",
   "id": "65cb1ede",
   "metadata": {},
   "source": [
    "# Student Details\n",
    "**ID Number:** 195832\n",
    "\n",
    "**Surname:** Guevarra\n",
    "\n",
    "**Year and Course:** 3 BS ITE"
   ]
  },
  {
   "cell_type": "markdown",
   "id": "882f08ac",
   "metadata": {},
   "source": [
    "### Student's Attempt:"
   ]
  },
  {
   "cell_type": "code",
   "execution_count": null,
   "id": "b10617d1",
   "metadata": {
    "scrolled": true
   },
   "outputs": [],
   "source": [
    "def three_number_average(firstnumber,secondnumber,thirdnumber):\n",
    "    return (firstnumber+secondnumber+thirdnumber)/3\n",
    "x= int(input(\"Enter first number: \"))\n",
    "y= int(input(\"Enter second number: \"))\n",
    "z= int(input(\"Enter third number: \"))\n",
    "print(\"The average is\", (x+y+z)/3)"
   ]
  },
  {
   "cell_type": "code",
   "execution_count": null,
   "id": "71fd5ba3",
   "metadata": {},
   "outputs": [],
   "source": [
    "three_number_average(x,y,z)"
   ]
  },
  {
   "cell_type": "markdown",
   "id": "7dbff548",
   "metadata": {},
   "source": [
    "### For Teacher's Testing:"
   ]
  },
  {
   "cell_type": "code",
   "execution_count": null,
   "id": "0772d922",
   "metadata": {
    "scrolled": false
   },
   "outputs": [],
   "source": [
    "def three_number_average(firstnumber,secondnumber,thirdnumber):\n",
    "    return (firstnumber+secondnumber+thirdnumber)/3\n",
    "x= int(input(\"Enter first number: \"))\n",
    "y= int(input(\"Enter second number: \"))\n",
    "z= int(input(\"Enter third number: \"))\n",
    "print(\"The average is\", (x+y+z)/3)"
   ]
  },
  {
   "cell_type": "code",
   "execution_count": null,
   "id": "1fbcd41d",
   "metadata": {},
   "outputs": [],
   "source": [
    "three_number_average(x,y,z)"
   ]
  }
 ],
 "metadata": {
  "kernelspec": {
   "display_name": "Python 3",
   "language": "python",
   "name": "python3"
  },
  "language_info": {
   "codemirror_mode": {
    "name": "ipython",
    "version": 3
   },
   "file_extension": ".py",
   "mimetype": "text/x-python",
   "name": "python",
   "nbconvert_exporter": "python",
   "pygments_lexer": "ipython3",
   "version": "3.8.8"
  }
 },
 "nbformat": 4,
 "nbformat_minor": 5
}
