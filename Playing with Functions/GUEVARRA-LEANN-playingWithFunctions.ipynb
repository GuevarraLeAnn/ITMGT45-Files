{
 "cells": [
  {
   "cell_type": "markdown",
   "id": "7da69710",
   "metadata": {},
   "source": [
    "## Student Details\n",
    "\n",
    "**ID Number:** 195832\n",
    "\n",
    "**Surname:** Guevarra\n",
    "\n",
    "**Year and Course:** 3 BS ITE"
   ]
  },
  {
   "cell_type": "markdown",
   "id": "2b92aaab",
   "metadata": {},
   "source": [
    "### Problem 1"
   ]
  },
  {
   "cell_type": "code",
   "execution_count": 1,
   "id": "f67d486c",
   "metadata": {},
   "outputs": [],
   "source": [
    "def problem_1(number):\n",
    "    number = int(input())\n",
    "    fac = 1\n",
    "    i = 1\n",
    "    while i <= number:\n",
    "        fac = fac * i\n",
    "        i = i + 1\n",
    "    return int(fac)"
   ]
  },
  {
   "cell_type": "code",
   "execution_count": 148,
   "id": "75655f69",
   "metadata": {},
   "outputs": [
    {
     "name": "stdout",
     "output_type": "stream",
     "text": [
      "9\n"
     ]
    },
    {
     "data": {
      "text/plain": [
       "362880"
      ]
     },
     "execution_count": 148,
     "metadata": {},
     "output_type": "execute_result"
    }
   ],
   "source": [
    "problem_1(9)"
   ]
  },
  {
   "cell_type": "markdown",
   "id": "c734455b",
   "metadata": {},
   "source": [
    "### Problem 2"
   ]
  },
  {
   "cell_type": "code",
   "execution_count": 3,
   "id": "45ee335e",
   "metadata": {},
   "outputs": [],
   "source": [
    "def problem_2(passphrase):\n",
    "    attempts = 0\n",
    "    passphrase = \"baboo\"\n",
    "    while(True):\n",
    "        guess = input(\"Enter the passphrase: \")\n",
    "        attempts += 1\n",
    "        if guess == passphrase:\n",
    "            return 1\n",
    "            break\n",
    "        elif guess != passphrase:\n",
    "                if attempts >= 3:\n",
    "                    return 0"
   ]
  },
  {
   "cell_type": "code",
   "execution_count": 4,
   "id": "97dc72ca",
   "metadata": {},
   "outputs": [
    {
     "name": "stdout",
     "output_type": "stream",
     "text": [
      "Enter the passphrase: baboo\n"
     ]
    },
    {
     "data": {
      "text/plain": [
       "1"
      ]
     },
     "execution_count": 4,
     "metadata": {},
     "output_type": "execute_result"
    }
   ],
   "source": [
    "problem_2(\"baba\")"
   ]
  },
  {
   "cell_type": "code",
   "execution_count": 5,
   "id": "696ee847",
   "metadata": {},
   "outputs": [
    {
     "name": "stdout",
     "output_type": "stream",
     "text": [
      "Enter the passphrase: Welcome to the playground\n",
      "Enter the passphrase: Arcane\n",
      "Enter the passphrase: Merry Christmas\n"
     ]
    },
    {
     "data": {
      "text/plain": [
       "0"
      ]
     },
     "execution_count": 5,
     "metadata": {},
     "output_type": "execute_result"
    }
   ],
   "source": [
    "problem_2(12)"
   ]
  },
  {
   "cell_type": "markdown",
   "id": "7ce08d02",
   "metadata": {},
   "source": [
    "### Problem 3"
   ]
  },
  {
   "cell_type": "code",
   "execution_count": 24,
   "id": "064498ec",
   "metadata": {},
   "outputs": [],
   "source": [
    "def problem_3 (temp, original_format, new_format):\n",
    "    temp = float(input())\n",
    "    original_format = str(input())\n",
    "    new_format = str(input())\n",
    "    \n",
    "    #Formulas\n",
    "    C = 5/9 * (temp - 32)\n",
    "    F =(9/5 * C) + 32\n",
    "    K = C + 273.15\n",
    "\n",
    "    \n",
    "    #When converting Fahrenheit\n",
    "    if original_format == \"Fahrenheit\" and new_format == \"Kelvin\":\n",
    "        return print('{0:.4f}'.format(K))\n",
    "    \n",
    "    elif original_format == \"Fahrenheit\" and new_format == \"Celsius\":\n",
    "        return print ('{0:.4f}'.format(C))\n",
    "    \n",
    "    #When converting Celsius\n",
    "    elif original_format == \"Celsius\" and new_format == \"Fahrenheit\":\n",
    "        return print('{0:.4f}'.format((9/5 * temp) + 32))\n",
    "   \n",
    "    elif original_format == \"Celsius\" and new_format == \"Kelvin\":\n",
    "        return print('{0:.4f}'.format(temp + 273.15))\n",
    "    \n",
    "    #When converting Kelvin\n",
    "    elif original_format == \"Kelvin\" and new_format == \"Celsius\":\n",
    "        return print('{0:.4f}'.format(temp - 273.15))\n",
    "    \n",
    "    elif original_format == \"Kelvin\" and new_format == \"Fahrenheit\":\n",
    "        return print('{0:.4f}'.format(9/5 * (temp - 273.15) + 32))"
   ]
  },
  {
   "cell_type": "code",
   "execution_count": 25,
   "id": "c3cd9213",
   "metadata": {},
   "outputs": [
    {
     "name": "stdout",
     "output_type": "stream",
     "text": [
      "100\n",
      "Fahrenheit\n",
      "Kelvin\n",
      "310.9278\n"
     ]
    }
   ],
   "source": [
    "problem_3(100,\"Fahrenheit\",\"Kelvin\")"
   ]
  },
  {
   "cell_type": "code",
   "execution_count": 26,
   "id": "f9c5c072",
   "metadata": {},
   "outputs": [
    {
     "name": "stdout",
     "output_type": "stream",
     "text": [
      "100\n",
      "Fahrenheit\n",
      "Celsius\n",
      "37.7778\n"
     ]
    }
   ],
   "source": [
    "problem_3(100,\"Fahrenheit\",\"Celsius\")"
   ]
  },
  {
   "cell_type": "code",
   "execution_count": 27,
   "id": "1fa0706d",
   "metadata": {},
   "outputs": [
    {
     "name": "stdout",
     "output_type": "stream",
     "text": [
      "100\n",
      "Celsius\n",
      "Fahrenheit\n",
      "212.0000\n"
     ]
    }
   ],
   "source": [
    "problem_3(100,\"Celsius\", \"Fahrenheit\")"
   ]
  },
  {
   "cell_type": "code",
   "execution_count": 28,
   "id": "358fa94f",
   "metadata": {},
   "outputs": [
    {
     "name": "stdout",
     "output_type": "stream",
     "text": [
      "100\n",
      "Celsius\n",
      "Kelvin\n",
      "373.1500\n"
     ]
    }
   ],
   "source": [
    "problem_3(100,\"Celsius\",\"Kelvin\")"
   ]
  },
  {
   "cell_type": "code",
   "execution_count": 29,
   "id": "16a83f4e",
   "metadata": {},
   "outputs": [
    {
     "name": "stdout",
     "output_type": "stream",
     "text": [
      "100\n",
      "Kelvin\n",
      "Celsius\n",
      "-173.1500\n"
     ]
    }
   ],
   "source": [
    "problem_3(100,\"Kelvin\",\"Celsius\")"
   ]
  },
  {
   "cell_type": "code",
   "execution_count": 30,
   "id": "e1b0626e",
   "metadata": {
    "scrolled": true
   },
   "outputs": [
    {
     "name": "stdout",
     "output_type": "stream",
     "text": [
      "100\n",
      "Kelvin\n",
      "Fahrenheit\n",
      "-279.6700\n"
     ]
    }
   ],
   "source": [
    "problem_3(100,\"Kelvin\",\"Fahrenheit\")"
   ]
  },
  {
   "cell_type": "markdown",
   "id": "6ca347f7",
   "metadata": {},
   "source": [
    "### Problem 4"
   ]
  },
  {
   "cell_type": "code",
   "execution_count": 96,
   "id": "47aa2ccc",
   "metadata": {},
   "outputs": [],
   "source": [
    "def problem_4(amount):\n",
    "    amt = int(input(\"Enter exact amount in centavos: \"))\n",
    "    one = amt//100\n",
    "    amt = amt%100\n",
    "    \n",
    "    twofive = amt//25\n",
    "    amt = amt%25\n",
    "    \n",
    "    ten = amt//10\n",
    "    amt = amt%10\n",
    "    \n",
    "    five = amt//5\n",
    "    amt = amt%5\n",
    "    \n",
    "    one_cent= amt//1\n",
    "    amt = amt%1\n",
    "    \n",
    "    cents_string = '\"1P:{}/25C:{}/10C:{}/5C:{}/1C:{}\"'\n",
    "    return print(cents_string.format(one,twofive,ten,five,one_cent))"
   ]
  },
  {
   "cell_type": "code",
   "execution_count": 97,
   "id": "0b02616b",
   "metadata": {},
   "outputs": [
    {
     "name": "stdout",
     "output_type": "stream",
     "text": [
      "Enter exact amount in centavos: 47\n",
      "\"1P:0/25C:1/10C:2/5C:0/1C:2\"\n"
     ]
    }
   ],
   "source": [
    "problem_4(47)"
   ]
  },
  {
   "cell_type": "code",
   "execution_count": 99,
   "id": "f5c15a7d",
   "metadata": {},
   "outputs": [
    {
     "name": "stdout",
     "output_type": "stream",
     "text": [
      "Enter exact amount in centavos: 987\n",
      "\"1P:9/25C:3/10C:1/5C:0/1C:2\"\n"
     ]
    }
   ],
   "source": [
    "problem_4(987)"
   ]
  },
  {
   "cell_type": "markdown",
   "id": "caffe0fa",
   "metadata": {},
   "source": [
    "### Problem 5"
   ]
  },
  {
   "cell_type": "code",
   "execution_count": 144,
   "id": "71140876",
   "metadata": {},
   "outputs": [],
   "source": [
    "def problem_5(message):\n",
    "    message = input(\"Type your message : \")\n",
    "\n",
    "    newmessage = \"\"\n",
    "\n",
    "    for i in range(len(message)):\n",
    "        if(message[i] >= 'a' and message[i] <= 'z'): \n",
    "            newmessage = newmessage + chr((ord(message[i]) - 32)) \n",
    "        elif(message[i] >= 'A' and message[i] <= 'Z'):\n",
    "            newmessage = newmessage + chr((ord(message[i]) + 32))\n",
    "        else:\n",
    "            newmessage = newmessage + message[i]\n",
    "\n",
    "    return (print(newmessage))"
   ]
  },
  {
   "cell_type": "code",
   "execution_count": 145,
   "id": "ff970e74",
   "metadata": {},
   "outputs": [
    {
     "name": "stdout",
     "output_type": "stream",
     "text": [
      "Type your message : DyNaStiEs nD dYstoPiA\n",
      "dYnAsTIeS Nd DySTOpIa\n"
     ]
    }
   ],
   "source": [
    "problem_5(\"DyNaStiEs nD dYstoPiA\")"
   ]
  },
  {
   "cell_type": "code",
   "execution_count": 146,
   "id": "ef2c34e5",
   "metadata": {
    "scrolled": true
   },
   "outputs": [
    {
     "name": "stdout",
     "output_type": "stream",
     "text": [
      "Type your message : ENEMY look out for yourself\n",
      "enemy LOOK OUT FOR YOURSELF\n"
     ]
    }
   ],
   "source": [
    "problem_5(\"ENEMY look out for yourself\")"
   ]
  },
  {
   "cell_type": "code",
   "execution_count": null,
   "id": "8635bda6",
   "metadata": {},
   "outputs": [],
   "source": []
  }
 ],
 "metadata": {
  "kernelspec": {
   "display_name": "Python 3",
   "language": "python",
   "name": "python3"
  },
  "language_info": {
   "codemirror_mode": {
    "name": "ipython",
    "version": 3
   },
   "file_extension": ".py",
   "mimetype": "text/x-python",
   "name": "python",
   "nbconvert_exporter": "python",
   "pygments_lexer": "ipython3",
   "version": "3.8.8"
  }
 },
 "nbformat": 4,
 "nbformat_minor": 5
}
