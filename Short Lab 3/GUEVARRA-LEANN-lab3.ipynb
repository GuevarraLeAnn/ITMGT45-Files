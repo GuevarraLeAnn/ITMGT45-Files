{
 "cells": [
  {
   "cell_type": "markdown",
   "id": "1df827dc",
   "metadata": {},
   "source": [
    "# Student Details\n",
    "ID Number: 195832\n",
    "\n",
    "Surname: GUEVARRA\n",
    "\n",
    "\n",
    "Year and Course: 3 BS ITE"
   ]
  },
  {
   "cell_type": "markdown",
   "id": "31c757a1",
   "metadata": {},
   "source": [
    "## Problem 1: Caesar Cipher\n",
    "Write a function called problem_1 that takes two positional arguments message and shift. It should apply the Caesar cipher to a message and return the result."
   ]
  },
  {
   "cell_type": "code",
   "execution_count": 77,
   "id": "08cd1998",
   "metadata": {},
   "outputs": [],
   "source": [
    "def problem_1(message,shift):\n",
    "\n",
    "    alphabets = \"ABCDEFGHIJKLMNOPQRSTUVWXYZ\"\n",
    "    new_str = \"\"\n",
    "    #loop each character in the message\n",
    "    for char in message.upper():\n",
    "        if char in alphabets:\n",
    "            # use index and add shift\n",
    "            index_of_cipher_char = alphabets.index(char) + shift \n",
    "            # 26 is the number of characters in the alphabets\n",
    "            index_of_cipher_char_modified = index_of_cipher_char % 26 \n",
    "            new_str += alphabets[index_of_cipher_char % 26 ]\n",
    "        else:\n",
    "            new_str += char\n",
    "    return new_str"
   ]
  },
  {
   "cell_type": "code",
   "execution_count": 78,
   "id": "757b34a4",
   "metadata": {},
   "outputs": [
    {
     "data": {
      "text/plain": [
       "'PIXXG VME GMIZ'"
      ]
     },
     "execution_count": 78,
     "metadata": {},
     "output_type": "execute_result"
    }
   ],
   "source": [
    "problem_1('HAPPY NEW YEAR',8)"
   ]
  },
  {
   "cell_type": "markdown",
   "id": "532d5c69",
   "metadata": {},
   "source": [
    "## Problem 2: Social Media Relationships\n",
    "Write a function called relationship_status that takes three positional arguments: (str) from_member, (str) to_member, and (dict) social_graph. The function should determine the relationship status of the first member to the second member based on the data stored in the social graph. The function should return one of these values depending on what is appropriate:\n",
    "\n",
    "\"follower\", if from_member follows to_member\n",
    "\n",
    "\"followed by\", if from_member is followed by to_member\n",
    "\n",
    "\"friends\", if from_member and to_member follow each other\n",
    "\n",
    "None if none of the above scenarios are applicable\n",
    "\n",
    "Specifications:\n",
    "\n",
    "from_member and to_member are user IDs (e.g. \"@jobenilagan\").\n",
    "social_graph is a dictionary that adheres to the specification demonstrated in the demo cell."
   ]
  },
  {
   "cell_type": "code",
   "execution_count": 79,
   "id": "d4416813",
   "metadata": {},
   "outputs": [],
   "source": [
    "social_graph = {\n",
    "    \"@GuevarraLeAnn\":{\"first_name\":\"LeAnn\",\n",
    "                  \"last_name\":\"Guevarra\",\n",
    "                  \"following\":[\n",
    "                  ]\n",
    "    },\n",
    "    \"@ironman\":  {\"first_name\":\"Tony\",\n",
    "                  \"last_name\":\"Stark\",\n",
    "                  \"following\":[\n",
    "                      \"@spiderman\",\"@GuevarraLeAnn\",\"@blackwidow\"\n",
    "                  ]\n",
    "    },\n",
    "    \"@captainamerica\" : {\"first_name\":\"Steve\",\n",
    "                \"last_name\":\"Rogers\",\n",
    "                \"following\":[\n",
    "                    \"@blackwidow\",\"@GuevarraLeAnn\",\"@bucky\",\"@antman\"\n",
    "                ]\n",
    "    },\n",
    "    \"@blackwidow\":{\"first_name\":\"Natasha\",\n",
    "                   \"last_name\":\"Romanov\",\n",
    "                   \"following\":[\n",
    "                    \"@GuevarraLeAnn\",\"@yelena\",\"@captainamerica\",\"@ironman\"\n",
    "                   ]\n",
    "    },\n",
    "    \"@spiderman\":{\"first_name\":\"Peter\",\n",
    "                  \"last_name\":\"Parker\",\n",
    "                  \"following\":[\n",
    "                    \"@ironman\",\"@captainamerica\",\"@blackwidow\",\"@godofthunder\", \"@GuevarraLeAnn\"\n",
    "                  ]\n",
    "    },\n",
    "    \"@godofthunder\":  {\"first_name\":\"Thor\",\n",
    "                  \"last_name\":\"Son of Odin\",\n",
    "                  \"following\":[\n",
    "                    \"@GuevarraLeAnn\",\"@ironman\"\n",
    "                  ]\n",
    "    },\n",
    "}\n",
    "\n",
    "def relationship_status(from_member,to_member,social_graph):\n",
    "    \n",
    "    from_member_following = social_graph.get(from_member).get('following')\n",
    "    \n",
    "    to_member_following = social_graph.get(to_member).get('following')\n",
    "    \n",
    "    if from_member in to_member_following and to_member in from_member_following:\n",
    "        # if mutual following, return friends\n",
    "        return \"friends\"\n",
    "    elif from_member in to_member_following:\n",
    "        #if avenger has a fan, return followed by\n",
    "        return \"followed by\"\n",
    "    elif to_member in from_member_following:\n",
    "        #if fan of avenger, return follower\n",
    "        return \"follower\"\n",
    "    else:\n",
    "        return None"
   ]
  },
  {
   "cell_type": "code",
   "execution_count": 80,
   "id": "3a61263b",
   "metadata": {},
   "outputs": [
    {
     "data": {
      "text/plain": [
       "'friends'"
      ]
     },
     "execution_count": 80,
     "metadata": {},
     "output_type": "execute_result"
    }
   ],
   "source": [
    "relationship_status(\"@spiderman\", \"@ironman\", social_graph)"
   ]
  },
  {
   "cell_type": "markdown",
   "id": "439eeb2e",
   "metadata": {},
   "source": [
    "## Problem 3: Tic Tac Toe\n",
    "Write a function called tic_tac_toe that takes one positional argument (list) board. The function should return the winner of the board if there is one, and it should return None if there is no winner on the board.\n",
    "\n",
    "Specifications:\n",
    "\n",
    "Each player is represented by their symbol. Example: if the player using 'X' won the board, then simply return the string 'X'.\n",
    "\n",
    "The board may be 3x3, 4x4, 5x5, or 6x6.\n",
    "\n",
    "The game will only ever be player X vs player O. No other symbols will be used.\n",
    "\n",
    "There may be no winner, and there may be 1 winner, but there will never be a situation where there is more than 1 winner."
   ]
  },
  {
   "cell_type": "code",
   "execution_count": 81,
   "id": "eaed6aca",
   "metadata": {},
   "outputs": [],
   "source": [
    "board1 = [\n",
    "['X','X','O'],\n",
    "['O','X','O'],\n",
    "['O','','X'],\n",
    "]\n",
    "\n",
    "board2 = [\n",
    "['X','X','O'],\n",
    "['O','X','O'],\n",
    "['','O','X'],\n",
    "]\n",
    "\n",
    "board3 = [\n",
    "['O','X','O'],\n",
    "['','O','X'],\n",
    "['X','X','O'],\n",
    "]\n",
    "\n",
    "board4 = [\n",
    "['X','X','X'],\n",
    "['O','X','O'],\n",
    "['O','','O'],\n",
    "]\n",
    "\n",
    "board5 = [\n",
    "['X','X','O'],\n",
    "['O','X','O'],\n",
    "['X','','O'],\n",
    "]\n",
    "\n",
    "board6 = [\n",
    "['X','X','O'],\n",
    "['O','X','O'],\n",
    "['X','',''],\n",
    "]\n",
    "\n",
    "def tic_tac_toe(board):\n",
    "    \n",
    "    # check rows\n",
    "    for single_list in board:\n",
    "        #sets to check if all characters are the same\n",
    "        if len(set(single_list)) == 1:\n",
    "            return single_list[0]\n",
    "    \n",
    "    # check columns\n",
    "    for i in range(0,len(board)):\n",
    "        #get all the characters at index i in all rows\n",
    "        current_column = [x[i] for x in board ] \n",
    "        \n",
    "        if len(set(current_column)) == 1:\n",
    "            return current_column[0]\n",
    "\n",
    "    # Check diagonals\n",
    "    first_diagonal = []\n",
    "    second_diagonal = []\n",
    "    first_diagonal_index = 0\n",
    "    second_diagonal_index = len(board)-1\n",
    "    \n",
    "    for row in board:\n",
    "        first_diagonal.append(row[first_diagonal_index])\n",
    "        second_diagonal.append(row[second_diagonal_index])\n",
    "        #increment and decrement index\n",
    "        first_diagonal_index += 1\n",
    "        second_diagonal_index -= 1\n",
    "\n",
    "    #check if any of two diagonals have all same characters\n",
    "    if len(set(first_diagonal)) == 1:\n",
    "        return first_diagonal[0]\n",
    "    elif len(set(second_diagonal)) == 1:\n",
    "        return second_diagonal[0]\n",
    "\n",
    "    #if conditions not met, no winner\n",
    "    return None"
   ]
  },
  {
   "cell_type": "code",
   "execution_count": 82,
   "id": "0e0ba8ec",
   "metadata": {},
   "outputs": [
    {
     "data": {
      "text/plain": [
       "'X'"
      ]
     },
     "execution_count": 82,
     "metadata": {},
     "output_type": "execute_result"
    }
   ],
   "source": [
    "tic_tac_toe(board2)"
   ]
  },
  {
   "cell_type": "markdown",
   "id": "ae0b7a61",
   "metadata": {},
   "source": [
    "## Problem 4: Routing\n",
    "Write a function called eta that takes three positional arguments: (dict) legs, (str) source, and (str) destination. The function should return the estimated number of minutes it will take to reach the destination from the source based on the data stored in the legs dictionary.\n",
    "\n",
    "Specifications:\n",
    "\n",
    "The legs dictionary adheres to the schema followed in the demo cell.\n",
    "\n",
    "There may be more legs than shown in the demo cell.\n",
    "\n",
    "Any destination can be reached from any source."
   ]
  },
  {
   "cell_type": "code",
   "execution_count": 83,
   "id": "37c7375d",
   "metadata": {},
   "outputs": [],
   "source": [
    "legs = {\n",
    "     (\"upd\",\"admu\"):{\n",
    "         \"travel_time_mins\":10\n",
    "     },\n",
    "     (\"admu\",\"dlsu\"):{\n",
    "         \"travel_time_mins\":35\n",
    "     },\n",
    "     (\"dlsu\",\"upd\"):{\n",
    "         \"travel_time_mins\":55\n",
    "     }\n",
    "}\n",
    "def eta(legs,source,destination):\n",
    "    # locations in list based on one way route\n",
    "    ordered_locations = []\n",
    "    for key,value in legs.items():\n",
    "        \n",
    "        # if any locations get added to the list\n",
    "        if len(ordered_locations):\n",
    "            #find next location based on the last location\n",
    "            next_location = list(filter(lambda x : x[0] == ordered_locations[-1],legs.keys()))[0][1]\n",
    "            ordered_locations.append(next_location)\n",
    "        else:\n",
    "            ordered_locations.append(key[0])\n",
    "            ordered_locations.append(key[1])\n",
    "\n",
    "    # pop the location at the last index since its the starting point\n",
    "    ordered_locations.pop()\n",
    "    # find distance from source to destination\n",
    "    location_index = ordered_locations.index(source)\n",
    "    searching_destination = True\n",
    "    # minutes between locations\n",
    "    minutes_list = []\n",
    "    while searching_destination:\n",
    "        #get current location\n",
    "        current_location = ordered_locations[location_index]\n",
    "        location_index += 1\n",
    "        #locations wrap\n",
    "        current_index = location_index % len(ordered_locations)\n",
    "        #next location using current index\n",
    "        next_location =  ordered_locations[current_index]\n",
    "        #minutes between current location to next\n",
    "        locations_key = (current_location,next_location)\n",
    "        minutes_list.append(legs.get(locations_key).get('travel_time_mins'))\n",
    "        if next_location == destination:\n",
    "            break\n",
    "\n",
    "    #total minutes\n",
    "    return sum(minutes_list)"
   ]
  },
  {
   "cell_type": "code",
   "execution_count": 84,
   "id": "8c903c60",
   "metadata": {},
   "outputs": [
    {
     "data": {
      "text/plain": [
       "90"
      ]
     },
     "execution_count": 84,
     "metadata": {},
     "output_type": "execute_result"
    }
   ],
   "source": [
    "eta(legs, \"admu\", \"upd\")"
   ]
  }
 ],
 "metadata": {
  "kernelspec": {
   "display_name": "Python 3 (ipykernel)",
   "language": "python",
   "name": "python3"
  },
  "language_info": {
   "codemirror_mode": {
    "name": "ipython",
    "version": 3
   },
   "file_extension": ".py",
   "mimetype": "text/x-python",
   "name": "python",
   "nbconvert_exporter": "python",
   "pygments_lexer": "ipython3",
   "version": "3.9.7"
  }
 },
 "nbformat": 4,
 "nbformat_minor": 5
}
